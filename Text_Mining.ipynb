{
  "nbformat": 4,
  "nbformat_minor": 0,
  "metadata": {
    "colab": {
      "name": "Text Mining.ipynb",
      "provenance": [],
      "collapsed_sections": [],
      "authorship_tag": "ABX9TyNlV9qEv/bqwk0T8Z/gBduB",
      "include_colab_link": true
    },
    "kernelspec": {
      "name": "python3",
      "display_name": "Python 3"
    }
  },
  "cells": [
    {
      "cell_type": "markdown",
      "metadata": {
        "id": "view-in-github",
        "colab_type": "text"
      },
      "source": [
        "<a href=\"https://colab.research.google.com/github/anandaptralmira/textmining/blob/master/Text_Mining.ipynb\" target=\"_parent\"><img src=\"https://colab.research.google.com/assets/colab-badge.svg\" alt=\"Open In Colab\"/></a>"
      ]
    },
    {
      "cell_type": "code",
      "metadata": {
        "id": "fCGy68I9VHtQ"
      },
      "source": [
        "!pip install nltk\n",
        "!pip install Sastrawi"
      ],
      "execution_count": null,
      "outputs": []
    },
    {
      "cell_type": "code",
      "metadata": {
        "id": "E2xCYJkGVfLg",
        "colab": {
          "base_uri": "https://localhost:8080/"
        },
        "outputId": "b6ee10d4-dac8-45bb-a5cd-ce207cf245c8"
      },
      "source": [
        "# Import Library\n",
        "import pandas as pd\n",
        "import sklearn.metrics as metrics\n",
        "from sklearn.model_selection import GridSearchCV\n",
        "import numpy as np\n",
        "from sklearn.pipeline import make_pipeline\n",
        "from sklearn.preprocessing import StandardScaler\n",
        "import seaborn as sns\n",
        "import matplotlib.pyplot as plt\n",
        "import string \n",
        "import re\n",
        "import nltk\n",
        "from google.colab import files\n",
        "\n",
        "nltk.download('punkt')\n",
        "nltk.download('stopwords')\n",
        "from nltk.tokenize import word_tokenize \n",
        "from nltk.probability import FreqDist\n",
        "from Sastrawi.Stemmer.StemmerFactory import StemmerFactory\n",
        "from nltk.corpus import stopwords\n",
        "\n",
        "from sklearn.model_selection import train_test_split\n",
        "from sklearn import model_selection, svm\n",
        "from sklearn.metrics import accuracy_score\n",
        "\n",
        "from collections import Counter\n",
        "from wordcloud import STOPWORDS\n",
        "from wordcloud import WordCloud\n",
        "\n",
        "from nltk.tokenize import sent_tokenize, word_tokenize\n",
        "from nltk import pos_tag\n",
        "from nltk.stem import PorterStemmer, SnowballStemmer, LancasterStemmer\n",
        "from nltk.stem import WordNetLemmatizer\n",
        "from nltk import tokenize\n",
        "import nltk\n",
        "from sklearn.feature_extraction.text import TfidfVectorizer\n",
        "import re\n",
        "nltk.download('punkt')\n",
        "nltk.download('wordnet')"
      ],
      "execution_count": 7,
      "outputs": [
        {
          "output_type": "stream",
          "text": [
            "[nltk_data] Downloading package punkt to /root/nltk_data...\n",
            "[nltk_data]   Unzipping tokenizers/punkt.zip.\n",
            "[nltk_data] Downloading package stopwords to /root/nltk_data...\n",
            "[nltk_data]   Unzipping corpora/stopwords.zip.\n",
            "[nltk_data] Downloading package punkt to /root/nltk_data...\n",
            "[nltk_data]   Package punkt is already up-to-date!\n",
            "[nltk_data] Downloading package wordnet to /root/nltk_data...\n",
            "[nltk_data]   Unzipping corpora/wordnet.zip.\n"
          ],
          "name": "stdout"
        },
        {
          "output_type": "execute_result",
          "data": {
            "text/plain": [
              "True"
            ]
          },
          "metadata": {
            "tags": []
          },
          "execution_count": 7
        }
      ]
    },
    {
      "cell_type": "code",
      "metadata": {
        "id": "UojE9gp5VoUD"
      },
      "source": [
        "df = pd.read_csv('https://raw.githubusercontent.com/anandaptralmira/textmining/master/id-hatespeech-detection-master.csv' , sep=\",\", encoding=\"ISO-8859-1\")\n",
        "df.head()"
      ],
      "execution_count": null,
      "outputs": []
    },
    {
      "cell_type": "code",
      "metadata": {
        "id": "P0XhWDuWWryQ"
      },
      "source": [
        "df.info()"
      ],
      "execution_count": null,
      "outputs": []
    },
    {
      "cell_type": "code",
      "metadata": {
        "id": "b0CUYGjUWYIc"
      },
      "source": [
        "# Set Training and Testing Data (70:30)\n",
        "from sklearn.model_selection import train_test_split, cross_val_score\n",
        "X_train, X_test, y_train, y_test  = train_test_split(df['Tweet'] , df['Label'], shuffle = True, test_size=0.25, random_state=1)\n",
        "\n",
        "# Show the Training and Testing Data\n",
        "print(X_train.shape)\n",
        "print(X_test.shape)\n",
        "print(y_train.shape)\n",
        "print(y_test.shape)"
      ],
      "execution_count": null,
      "outputs": []
    },
    {
      "cell_type": "code",
      "metadata": {
        "id": "EPyy40JfXSA6"
      },
      "source": [
        "#cek proporsi label data\n",
        "pd.value_counts(df['Label']).plot.bar()"
      ],
      "execution_count": null,
      "outputs": []
    },
    {
      "cell_type": "code",
      "metadata": {
        "id": "D_GBRo-5YZa4"
      },
      "source": [
        "df_fix = df.append(df, ignore_index=True)"
      ],
      "execution_count": 13,
      "outputs": []
    },
    {
      "cell_type": "code",
      "metadata": {
        "id": "WRmKdwWqYqmv"
      },
      "source": [
        "df_fix"
      ],
      "execution_count": null,
      "outputs": []
    },
    {
      "cell_type": "code",
      "metadata": {
        "id": "E7rTkg2YZJFA"
      },
      "source": [
        "from wordcloud import WordCloud,STOPWORDS\n",
        "word = df.Tweet[df['Label']=='HS'].astype('string')\n",
        "wordcloud = WordCloud(max_font_size=20, max_words=500, background_color=\"lightblue\").generate_from_text(' '.join(word))\n",
        "print('Hate speech')\n",
        "plt.figure(figsize= (10,8))\n",
        "plt.imshow(wordcloud, interpolation = 'bilinear')\n",
        "plt.axis('off')\n",
        "plt.show()"
      ],
      "execution_count": null,
      "outputs": []
    },
    {
      "cell_type": "code",
      "metadata": {
        "id": "zaLclv2HZSuH"
      },
      "source": [
        "from wordcloud import WordCloud,STOPWORDS\n",
        "word = df.Tweet[df['Label']=='Non_HS'].astype('string')\n",
        "wordcloud = WordCloud(max_font_size=20, max_words=500, background_color=\"white\").generate_from_text(' '.join(word))\n",
        "print('Non Hate speech')\n",
        "plt.figure(figsize= (10,8))\n",
        "plt.imshow(wordcloud, interpolation = 'bilinear')\n",
        "plt.axis('off')\n",
        "plt.show()"
      ],
      "execution_count": null,
      "outputs": []
    },
    {
      "cell_type": "code",
      "metadata": {
        "id": "yKKPzsxGZdpa"
      },
      "source": [
        "# Cleaning the tweets\n",
        "def preprocessing(a,b):\n",
        "    data_fix = []\n",
        "    from nltk.corpus import stopwords\n",
        "    for i in range(len(b)):\n",
        "        teks = re.sub('[^a-zA-Z]', ' ', a[i])\n",
        "        # Remove mentions\n",
        "        teks = re.sub(r'@[A-Za-z0-9_]+', '', a[i])\n",
        "        # Remove hashtags\n",
        "        teks = re.sub(r'#', '', a[i])\n",
        "        # Remove retweets:\n",
        "        teks = re.sub(r'RT : ', '', a[i])\n",
        "        # Remove urls\n",
        "        teks = re.sub(r'https?:\\/\\/[A-Za-z0-9\\.\\/]+', '', a[i])\n",
        "        #Case Folding\n",
        "        teks = teks.lower()\n",
        "        #Tokinize\n",
        "        teks = teks.split()\n",
        "        #Stopword + Stemming\n",
        "        stemmer = StemmerFactory().create_stemmer()        \n",
        "        teks = [stemmer.stem(word) for word in teks if not word in set(stopwords.words('indonesian'))]\n",
        "        teks = [word for word in teks if len (word) > 3]\n",
        "        teks = ' '.join(teks)\n",
        "        data_fix.append(teks)\n",
        "    return data_fix"
      ],
      "execution_count": 21,
      "outputs": []
    },
    {
      "cell_type": "code",
      "metadata": {
        "id": "Csq3EHaFbrJ8"
      },
      "source": [
        "length_set = df_fix['Label'].tolist()"
      ],
      "execution_count": 23,
      "outputs": []
    },
    {
      "cell_type": "code",
      "metadata": {
        "id": "6eHwHP60Zykz"
      },
      "source": [
        "data_set = preprocessing(df_fix['Tweet'],length_set)"
      ],
      "execution_count": 24,
      "outputs": []
    },
    {
      "cell_type": "code",
      "metadata": {
        "id": "X71UZ8bVe2EP"
      },
      "source": [
        "df_fix['Prepro'] = pd.Series(data_set).values"
      ],
      "execution_count": 34,
      "outputs": []
    },
    {
      "cell_type": "code",
      "metadata": {
        "id": "6H80T-CUe6Ck"
      },
      "source": [
        "df_fix"
      ],
      "execution_count": null,
      "outputs": []
    }
  ]
}